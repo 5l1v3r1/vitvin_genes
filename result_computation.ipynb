{
 "cells": [
  {
   "cell_type": "markdown",
   "metadata": {},
   "source": [
    "# Computation of final result, and data for report"
   ]
  },
  {
   "cell_type": "code",
   "execution_count": 15,
   "metadata": {
    "collapsed": false
   },
   "outputs": [],
   "source": [
    "import pandas as pd\n",
    "import numpy as np\n",
    "import pylab as pl"
   ]
  },
  {
   "cell_type": "markdown",
   "metadata": {},
   "source": [
    "## Usefull functions:"
   ]
  },
  {
   "cell_type": "code",
   "execution_count": 16,
   "metadata": {
    "collapsed": false
   },
   "outputs": [],
   "source": [
    "def DCG(relevances, part = None):\n",
    "    if part == None:\n",
    "        relevances = np.asarray(relevances)\n",
    "    else:\n",
    "        relevances = np.asarray(relevances)[:part]\n",
    "    n_relevances = len(relevances)\n",
    "    if n_relevances == 0:\n",
    "        return 0.\n",
    "    discounts = np.log2(np.arange(n_relevances) + 2)\n",
    "    return np.sum(relevances / discounts)\n",
    "\n",
    "def NDCG(relevances, part = None):\n",
    "    best_dcg = DCG(sorted(relevances, reverse=True), part)\n",
    "    if best_dcg == 0:\n",
    "        return 0.\n",
    "    return DCG(relevances, part) / best_dcg"
   ]
  },
  {
   "cell_type": "markdown",
   "metadata": {},
   "source": [
    "##### Read pathway data"
   ]
  },
  {
   "cell_type": "code",
   "execution_count": 17,
   "metadata": {
    "collapsed": false
   },
   "outputs": [],
   "source": [
    "df_pathway = pd.read_csv(\"df_pathway.csv\", sep = \"\\t\")\n",
    "df_relations = pd.read_csv(\"df_relations.csv\", sep = \"\\t\")\n",
    "pathway_set = set(pd.read_csv(\"df_pathway.csv\", sep = \"\\t\")[\"Gene\"])"
   ]
  },
  {
   "cell_type": "code",
   "execution_count": 18,
   "metadata": {
    "collapsed": false
   },
   "outputs": [],
   "source": [
    "def to_array_weights(str_weights):\n",
    "    weights = map(lambda p: (float(p.split(\":\")[0]), p.split(\":\")[1]), str_weights.split(\" \"))\n",
    "    return sorted(weights, reverse = True)\n",
    "def to_str_weights(array_weights):\n",
    "    return \" \".join(map(lambda p: str(p[0])+\":\"+str(p[1]),array_weights))\n",
    "def position_of_pathway_genes(weights):\n",
    "    pathway = map(lambda x: x[1] in pathway_set, to_array_weights(weights))\n",
    "    return np.where(pathway)[0]"
   ]
  },
  {
   "cell_type": "code",
   "execution_count": 29,
   "metadata": {
    "collapsed": false
   },
   "outputs": [],
   "source": [
    "def transform_df_with_pathway_genes(df_result):\n",
    "    pathway_position = []\n",
    "    pathway_len = []\n",
    "    df_result = df_result.rename(columns={'NumberPathwayGenes': 'NumberOfCauseGenes'})\n",
    "    for i in df_result.index:\n",
    "        if pd.isnull(df_result.loc[i,\"Weights\"]):\n",
    "            p = []\n",
    "        else:\n",
    "            p = position_of_pathway_genes(df_result.loc[i,\"Weights\"])\n",
    "        pathway_position.append(\" \".join(map(str, p)))\n",
    "        pathway_len.append(len(p))\n",
    "    df_result[\"NumberPathwayGenes\"] = pathway_len\n",
    "    df_result[\"PositionPathway\"] = pathway_position\n",
    "    return df_result\n",
    "lasso_result = transform_df_with_pathway_genes(pd.read_csv(\"lasso_result.csv\"))\n",
    "randomized_lasso_result = transform_df_with_pathway_genes(pd.read_csv(\"randomized_lasso_result.csv\"))\n",
    "#rfe_result = transform_df_with_pathway_genes(pd.read_csv(\"rfe_result.csv\"))\n",
    "rfe_lasso_result = transform_df_with_pathway_genes(pd.read_csv(\"rfe_lasso_result.csv\"))"
   ]
  },
  {
   "cell_type": "markdown",
   "metadata": {},
   "source": [
    "## Producing final list of genes, for every target leave only NUMBER_OF_GENES_TO_SELECT best"
   ]
  },
  {
   "cell_type": "code",
   "execution_count": 30,
   "metadata": {
    "collapsed": false
   },
   "outputs": [],
   "source": [
    "NUMBER_OF_GENES_TO_SELECT = 100"
   ]
  },
  {
   "cell_type": "code",
   "execution_count": 39,
   "metadata": {
    "collapsed": false
   },
   "outputs": [],
   "source": [
    "df_data = pd.concat([lasso_result, randomized_lasso_result, rfe_lasso_result])\n",
    "df_maximum_selected = df_data[df_data[\"NumberGenes\"] >= NUMBER_OF_GENES_TO_SELECT].sort('NumberGenes',\n",
    "                                ascending=True).groupby(['Method', 'Gene'], as_index=False).first()\n",
    "df_result = pd.DataFrame(columns = [\"Method\", \"Gene\", \"DCG\", \"NumberOfPatwayGenes\", \"PathwayRank\", \"SelectedGenes\"],\n",
    "                         dtype=float)\n",
    "for i in df_maximum_selected.index:\n",
    "    selected_genes = to_str_weights(to_array_weights(df_maximum_selected.loc[i, \"Weights\"])[:NUMBER_OF_GENES_TO_SELECT])\n",
    "    pos_pathway = position_of_pathway_genes(selected_genes)\n",
    "    dcg = DCG(np.in1d(range(NUMBER_OF_GENES_TO_SELECT), pos_pathway)*1)\n",
    "    df_result = df_result.append(pd.DataFrame({\"Method\": df_maximum_selected.loc[i, \"Method\"],\n",
    "                                  \"Gene\": df_maximum_selected.loc[i, \"Gene\"],\n",
    "                                  \"DCG\": dcg,\n",
    "                                  \"PathwayRank\": \" \".join(map(str, pos_pathway)),\n",
    "                                  \"SelectedGenes\" : selected_genes,\n",
    "                                  \"NumberOfPatwayGenes\" : len(pos_pathway)}, index = [i]))\n"
   ]
  },
  {
   "cell_type": "code",
   "execution_count": 40,
   "metadata": {
    "collapsed": false
   },
   "outputs": [
    {
     "data": {
      "text/html": [
       "<div style=\"max-height:1000px;max-width:1500px;overflow:auto;\">\n",
       "<table border=\"1\" class=\"dataframe\">\n",
       "  <thead>\n",
       "    <tr style=\"text-align: right;\">\n",
       "      <th></th>\n",
       "      <th>Method</th>\n",
       "      <th>DCG</th>\n",
       "      <th>NumberOfPatwayGenes</th>\n",
       "    </tr>\n",
       "  </thead>\n",
       "  <tbody>\n",
       "    <tr>\n",
       "      <th>0</th>\n",
       "      <td>           Lasso</td>\n",
       "      <td> 1.104644</td>\n",
       "      <td> 3.232558</td>\n",
       "    </tr>\n",
       "    <tr>\n",
       "      <th>1</th>\n",
       "      <td>             RFE</td>\n",
       "      <td> 1.031572</td>\n",
       "      <td> 3.232558</td>\n",
       "    </tr>\n",
       "    <tr>\n",
       "      <th>2</th>\n",
       "      <td> RandomizedLasso</td>\n",
       "      <td> 0.873925</td>\n",
       "      <td> 2.976744</td>\n",
       "    </tr>\n",
       "  </tbody>\n",
       "</table>\n",
       "<p>3 rows × 3 columns</p>\n",
       "</div>"
      ],
      "text/plain": [
       "            Method       DCG  NumberOfPatwayGenes\n",
       "0            Lasso  1.104644             3.232558\n",
       "1              RFE  1.031572             3.232558\n",
       "2  RandomizedLasso  0.873925             2.976744\n",
       "\n",
       "[3 rows x 3 columns]"
      ]
     },
     "execution_count": 40,
     "metadata": {},
     "output_type": "execute_result"
    }
   ],
   "source": [
    "method_stat_df = df_result.groupby([\"Method\"], as_index = False).mean()\n",
    "method_stat_df.to_csv(\"report/method_comparison.csv\", index = False)\n",
    "method_stat_df"
   ]
  },
  {
   "cell_type": "code",
   "execution_count": 41,
   "metadata": {
    "collapsed": false
   },
   "outputs": [],
   "source": [
    "df_result.to_csv(\"report/result.csv\", index = False)"
   ]
  },
  {
   "cell_type": "markdown",
   "metadata": {},
   "source": [
    "## Producing final aggregation"
   ]
  },
  {
   "cell_type": "code",
   "execution_count": 48,
   "metadata": {
    "collapsed": false
   },
   "outputs": [],
   "source": [
    "matrix_of_lists = []\n",
    "for i in df_result[df_result[\"Method\"] == \"Lasso\"].index:\n",
    "    matrix_of_lists.append(map(lambda x: x[1], to_array_weights(df_result.loc[i, \"SelectedGenes\"])))\n",
    "pd.DataFrame(matrix_of_lists).to_csv(\"lists_for_aggregation.csv\", index = False)"
   ]
  },
  {
   "cell_type": "code",
   "execution_count": 49,
   "metadata": {
    "collapsed": false
   },
   "outputs": [],
   "source": [
    "!Rscript lists_aggregation.r 10 > /dev/null"
   ]
  },
  {
   "cell_type": "code",
   "execution_count": 50,
   "metadata": {
    "collapsed": false
   },
   "outputs": [],
   "source": [
    "import os\n",
    "os.remove(\"lists_for_aggregation.csv\")\n",
    "selected_genes_df = pd.read_csv(\"selected_genes_list.csv\")\n",
    "os.remove(\"selected_genes_list.csv\")"
   ]
  },
  {
   "cell_type": "code",
   "execution_count": 51,
   "metadata": {
    "collapsed": false
   },
   "outputs": [
    {
     "data": {
      "text/html": [
       "<div style=\"max-height:1000px;max-width:1500px;overflow:auto;\">\n",
       "<table border=\"1\" class=\"dataframe\">\n",
       "  <thead>\n",
       "    <tr style=\"text-align: right;\">\n",
       "      <th></th>\n",
       "      <th>Genes</th>\n",
       "      <th>InPathway</th>\n",
       "      <th>Rank</th>\n",
       "    </tr>\n",
       "  </thead>\n",
       "  <tbody>\n",
       "    <tr>\n",
       "      <th>0</th>\n",
       "      <td>                                 VIT_14s0068g00930</td>\n",
       "      <td>  True</td>\n",
       "      <td> 9</td>\n",
       "    </tr>\n",
       "    <tr>\n",
       "      <th>1</th>\n",
       "      <td>                                 VIT_14s0068g00920</td>\n",
       "      <td>  True</td>\n",
       "      <td> 8</td>\n",
       "    </tr>\n",
       "    <tr>\n",
       "      <th>2</th>\n",
       "      <td>                                 VIT_18s0001g09400</td>\n",
       "      <td> False</td>\n",
       "      <td> 7</td>\n",
       "    </tr>\n",
       "    <tr>\n",
       "      <th>3</th>\n",
       "      <td>                                 VIT_06s0004g02620</td>\n",
       "      <td> False</td>\n",
       "      <td> 6</td>\n",
       "    </tr>\n",
       "    <tr>\n",
       "      <th>4</th>\n",
       "      <td>                                 VIT_03s0088g00260</td>\n",
       "      <td> False</td>\n",
       "      <td> 5</td>\n",
       "    </tr>\n",
       "    <tr>\n",
       "      <th>5</th>\n",
       "      <td>                                 VIT_04s0023g03370</td>\n",
       "      <td>  True</td>\n",
       "      <td> 4</td>\n",
       "    </tr>\n",
       "    <tr>\n",
       "      <th>6</th>\n",
       "      <td>                                 VIT_05s0136g00260</td>\n",
       "      <td>  True</td>\n",
       "      <td> 3</td>\n",
       "    </tr>\n",
       "    <tr>\n",
       "      <th>7</th>\n",
       "      <td>                                 VIT_00s0361g00040</td>\n",
       "      <td>  True</td>\n",
       "      <td> 2</td>\n",
       "    </tr>\n",
       "    <tr>\n",
       "      <th>8</th>\n",
       "      <td> VIT_06s0009g03040&lt;br&gt;VIT_06s0009g03050&lt;br&gt;VIT_...</td>\n",
       "      <td>  True</td>\n",
       "      <td> 1</td>\n",
       "    </tr>\n",
       "    <tr>\n",
       "      <th>9</th>\n",
       "      <td>                                 VIT_15s0046g00170</td>\n",
       "      <td>  True</td>\n",
       "      <td> 0</td>\n",
       "    </tr>\n",
       "  </tbody>\n",
       "</table>\n",
       "<p>10 rows × 3 columns</p>\n",
       "</div>"
      ],
      "text/plain": [
       "                                               Genes InPathway  Rank\n",
       "0                                  VIT_14s0068g00930      True     9\n",
       "1                                  VIT_14s0068g00920      True     8\n",
       "2                                  VIT_18s0001g09400     False     7\n",
       "3                                  VIT_06s0004g02620     False     6\n",
       "4                                  VIT_03s0088g00260     False     5\n",
       "5                                  VIT_04s0023g03370      True     4\n",
       "6                                  VIT_05s0136g00260      True     3\n",
       "7                                  VIT_00s0361g00040      True     2\n",
       "8  VIT_06s0009g03040<br>VIT_06s0009g03050<br>VIT_...      True     1\n",
       "9                                  VIT_15s0046g00170      True     0\n",
       "\n",
       "[10 rows x 3 columns]"
      ]
     },
     "execution_count": 51,
     "metadata": {},
     "output_type": "execute_result"
    }
   ],
   "source": [
    "selected_genes_df[\"InPathway\"] = np.in1d(selected_genes_df[\"Genes\"], list(pathway_set))\n",
    "selected_genes_df[\"Rank\"] = selected_genes_df.shape[0] - np.array(selected_genes_df.index) - 1\n",
    "selected_genes_df.to_csv(\"report/selected_genes_list_lasso.csv\", index = False)\n",
    "\n",
    "selected_genes_df"
   ]
  },
  {
   "cell_type": "code",
   "execution_count": 47,
   "metadata": {
    "collapsed": false
   },
   "outputs": [
    {
     "data": {
      "text/html": [
       "<div style=\"max-height:1000px;max-width:1500px;overflow:auto;\">\n",
       "<table border=\"1\" class=\"dataframe\">\n",
       "  <thead>\n",
       "    <tr style=\"text-align: right;\">\n",
       "      <th></th>\n",
       "      <th>Genes</th>\n",
       "      <th>InPathway</th>\n",
       "      <th>Rank</th>\n",
       "    </tr>\n",
       "  </thead>\n",
       "  <tbody>\n",
       "    <tr>\n",
       "      <th>1 </th>\n",
       "      <td> VIT_06s0004g02620</td>\n",
       "      <td> False</td>\n",
       "      <td> 23</td>\n",
       "    </tr>\n",
       "    <tr>\n",
       "      <th>2 </th>\n",
       "      <td> VIT_18s0001g09400</td>\n",
       "      <td> False</td>\n",
       "      <td> 22</td>\n",
       "    </tr>\n",
       "    <tr>\n",
       "      <th>4 </th>\n",
       "      <td> VIT_03s0088g00260</td>\n",
       "      <td> False</td>\n",
       "      <td> 20</td>\n",
       "    </tr>\n",
       "    <tr>\n",
       "      <th>16</th>\n",
       "      <td> VIT_14s0060g00900</td>\n",
       "      <td> False</td>\n",
       "      <td>  8</td>\n",
       "    </tr>\n",
       "    <tr>\n",
       "      <th>18</th>\n",
       "      <td> VIT_13s0064g01480</td>\n",
       "      <td> False</td>\n",
       "      <td>  6</td>\n",
       "    </tr>\n",
       "    <tr>\n",
       "      <th>19</th>\n",
       "      <td> VIT_02s0012g01570</td>\n",
       "      <td> False</td>\n",
       "      <td>  5</td>\n",
       "    </tr>\n",
       "    <tr>\n",
       "      <th>20</th>\n",
       "      <td> VIT_16s0100g00270</td>\n",
       "      <td> False</td>\n",
       "      <td>  4</td>\n",
       "    </tr>\n",
       "    <tr>\n",
       "      <th>22</th>\n",
       "      <td> VIT_12s0028g01150</td>\n",
       "      <td> False</td>\n",
       "      <td>  2</td>\n",
       "    </tr>\n",
       "    <tr>\n",
       "      <th>23</th>\n",
       "      <td> VIT_03s0091g01290</td>\n",
       "      <td> False</td>\n",
       "      <td>  1</td>\n",
       "    </tr>\n",
       "    <tr>\n",
       "      <th>24</th>\n",
       "      <td> VIT_07s0005g06460</td>\n",
       "      <td> False</td>\n",
       "      <td>  0</td>\n",
       "    </tr>\n",
       "  </tbody>\n",
       "</table>\n",
       "<p>10 rows × 3 columns</p>\n",
       "</div>"
      ],
      "text/plain": [
       "                Genes InPathway  Rank\n",
       "1   VIT_06s0004g02620     False    23\n",
       "2   VIT_18s0001g09400     False    22\n",
       "4   VIT_03s0088g00260     False    20\n",
       "16  VIT_14s0060g00900     False     8\n",
       "18  VIT_13s0064g01480     False     6\n",
       "19  VIT_02s0012g01570     False     5\n",
       "20  VIT_16s0100g00270     False     4\n",
       "22  VIT_12s0028g01150     False     2\n",
       "23  VIT_03s0091g01290     False     1\n",
       "24  VIT_07s0005g06460     False     0\n",
       "\n",
       "[10 rows x 3 columns]"
      ]
     },
     "execution_count": 47,
     "metadata": {},
     "output_type": "execute_result"
    }
   ],
   "source": [
    "def get_tex_compatible(df):\n",
    "    new_df = df.copy()\n",
    "    new_df[\"Genes\"] = new_df[\"Genes\"].str.replace(\"_\",\"\\_\")\n",
    "    new_df[\"Genes\"] = map(lambda s: s[:30] + \"...\" if len(s) > 60 else s, new_df[\"Genes\"])\n",
    "    return new_df\n",
    "\n",
    "get_tex_compatible(selected_genes_df.iloc[0:10,:]).to_csv(\"report/selected_genes_list_10.csv\", index = False)\n",
    "get_tex_compatible(selected_genes_df[np.logical_not(selected_genes_df[\"InPathway\"])]).to_csv(\n",
    "        \"report/selected_genes_not_pathway.csv\", index = False)\n",
    "selected_genes_df[np.logical_not(selected_genes_df[\"InPathway\"])]"
   ]
  },
  {
   "cell_type": "code",
   "execution_count": 28,
   "metadata": {
    "collapsed": false
   },
   "outputs": [],
   "source": []
  }
 ],
 "metadata": {
  "kernelspec": {
   "display_name": "Python 2",
   "language": "python",
   "name": "python2"
  },
  "language_info": {
   "codemirror_mode": {
    "name": "ipython",
    "version": 2
   },
   "file_extension": ".py",
   "mimetype": "text/x-python",
   "name": "python",
   "nbconvert_exporter": "python",
   "pygments_lexer": "ipython2",
   "version": "2.7.6"
  }
 },
 "nbformat": 4,
 "nbformat_minor": 0
}
